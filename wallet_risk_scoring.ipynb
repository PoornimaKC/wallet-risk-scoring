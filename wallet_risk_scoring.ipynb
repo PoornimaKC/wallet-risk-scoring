{
 "cells": [
  {
   "cell_type": "markdown",
   "id": "f0ffc653-7feb-429e-b154-6a2d4b55e83b",
   "metadata": {},
   "source": [
    "### Objective:\n",
    "Given a list of wallet addresses, fetch their transaction history from the Compound V2/V3 protocol and assign a **risk score from 0 to 1000** to each wallet based on their behavior.\n",
    "\n",
    "### Deliverables:\n",
    "- A CSV with columns: `wallet_id`, `score`\n",
    "- A write-up explaining:\n",
    "  - Data collection process\n",
    "  - Feature selection rationale\n",
    "  - Scoring methodology\n",
    "  - Risk indicators used"
   ]
  },
  {
   "cell_type": "markdown",
   "id": "cc5f6b73-7ffd-4a3e-bcc6-ed54feb320eb",
   "metadata": {},
   "source": [
    "## Import libraries, set the path and load the wallet IDs"
   ]
  },
  {
   "cell_type": "code",
   "execution_count": 5,
   "id": "d8aefd12-874c-4e1d-bfbe-da8bf4967954",
   "metadata": {},
   "outputs": [
    {
     "data": {
      "text/html": [
       "<div>\n",
       "<style scoped>\n",
       "    .dataframe tbody tr th:only-of-type {\n",
       "        vertical-align: middle;\n",
       "    }\n",
       "\n",
       "    .dataframe tbody tr th {\n",
       "        vertical-align: top;\n",
       "    }\n",
       "\n",
       "    .dataframe thead th {\n",
       "        text-align: right;\n",
       "    }\n",
       "</style>\n",
       "<table border=\"1\" class=\"dataframe\">\n",
       "  <thead>\n",
       "    <tr style=\"text-align: right;\">\n",
       "      <th></th>\n",
       "      <th>wallet_id</th>\n",
       "    </tr>\n",
       "  </thead>\n",
       "  <tbody>\n",
       "    <tr>\n",
       "      <th>0</th>\n",
       "      <td>0x0039f22efb07a647557c7c5d17854cfd6d489ef3</td>\n",
       "    </tr>\n",
       "    <tr>\n",
       "      <th>1</th>\n",
       "      <td>0x06b51c6882b27cb05e712185531c1f74996dd988</td>\n",
       "    </tr>\n",
       "    <tr>\n",
       "      <th>2</th>\n",
       "      <td>0x0795732aacc448030ef374374eaae57d2965c16c</td>\n",
       "    </tr>\n",
       "    <tr>\n",
       "      <th>3</th>\n",
       "      <td>0x0aaa79f1a86bc8136cd0d1ca0d51964f4e3766f9</td>\n",
       "    </tr>\n",
       "    <tr>\n",
       "      <th>4</th>\n",
       "      <td>0x0fe383e5abc200055a7f391f94a5f5d1f844b9ae</td>\n",
       "    </tr>\n",
       "  </tbody>\n",
       "</table>\n",
       "</div>"
      ],
      "text/plain": [
       "                                    wallet_id\n",
       "0  0x0039f22efb07a647557c7c5d17854cfd6d489ef3\n",
       "1  0x06b51c6882b27cb05e712185531c1f74996dd988\n",
       "2  0x0795732aacc448030ef374374eaae57d2965c16c\n",
       "3  0x0aaa79f1a86bc8136cd0d1ca0d51964f4e3766f9\n",
       "4  0x0fe383e5abc200055a7f391f94a5f5d1f844b9ae"
      ]
     },
     "execution_count": 5,
     "metadata": {},
     "output_type": "execute_result"
    }
   ],
   "source": [
    "import pandas as pd\n",
    "import numpy as np\n",
    "import requests\n",
    "import json\n",
    "from tqdm import tqdm\n",
    "import time\n",
    "import os\n",
    "\n",
    "wallet_path = r\"C:\\Users\\Poornima Kc\\Documents\\zeru_wallet_risk\\wallet id.xlsx\"  \n",
    "\n",
    "wallets_df = pd.read_excel(wallet_path)\n",
    "wallets_df.columns = ['wallet_id']  \n",
    "\n",
    "wallet_list = wallets_df['wallet_id'].tolist()\n",
    "\n",
    "wallets_df.head()"
   ]
  },
  {
   "cell_type": "markdown",
   "id": "4ee9ce78-246d-482e-8ebe-9891a41fabe9",
   "metadata": {},
   "source": [
    "### Fetch Transaction History from Compound V2/V3\n",
    "\n",
    "We will now fetch historical DeFi transactions for each wallet using an API like:\n",
    "- **Covalent API**\n",
    "- **DeFiLlama**\n",
    "- **Etherscan (backup)**\n",
    "\n",
    "Our goal is to extract only **Compound V2 or V3** protocol interactions for scoring.\n"
   ]
  },
  {
   "cell_type": "code",
   "execution_count": 6,
   "id": "bebf0089-8688-49ea-bdb2-08329945c6d6",
   "metadata": {},
   "outputs": [],
   "source": [
    "import requests\n",
    "\n",
    "COVALENT_API_KEY = \"cqt_rQY8f9WtCd3fkcQdwBgD8x8PY8mr\"\n",
    "\n",
    "def fetch_wallet_transactions(wallet):\n",
    "    url = f\"https://api.covalenthq.com/v1/1/address/{wallet}/transactions_v2/?key={COVALENT_API_KEY}\"\n",
    "    \n",
    "    try:\n",
    "        response = requests.get(url)\n",
    "        if response.status_code == 200:\n",
    "            return response.json()\n",
    "        else:\n",
    "            print(f\"⚠️ Error fetching for {wallet}: {response.status_code}\")\n",
    "            return None\n",
    "    except Exception as e:\n",
    "        print(f\"❌ Exception occurred for {wallet}: {e}\")\n",
    "        return None"
   ]
  },
  {
   "cell_type": "markdown",
   "id": "6d7a0835-69c0-4e78-bd59-5b4429405150",
   "metadata": {},
   "source": [
    "###  Feature Engineering\n",
    "\n",
    "We extract features like:\n",
    "- Total number of Compound txns\n",
    "- Total borrowed and repaid\n",
    "- Total liquidations\n",
    "- Frequency of lending vs borrowing\n",
    "- Time active (days between first and last txn)\n"
   ]
  },
  {
   "cell_type": "code",
   "execution_count": 7,
   "id": "3bc5ddd3-2db4-4574-ab81-aed80bc9b4d4",
   "metadata": {},
   "outputs": [],
   "source": [
    "def extract_features(txns):\n",
    "    num_borrows = sum(1 for tx in txns if 'borrow' in str(tx).lower())\n",
    "    num_repays = sum(1 for tx in txns if 'repay' in str(tx).lower())\n",
    "    num_liquidations = sum(1 for tx in txns if 'liquidation' in str(tx).lower())\n",
    "    \n",
    "    score = (num_repays - num_borrows + 1) * 100  # Dummy logic\n",
    "\n",
    "    return {\n",
    "        'num_borrows': num_borrows,\n",
    "        'num_repays': num_repays,\n",
    "        'num_liquidations': num_liquidations,\n",
    "        'score': max(0, min(1000, score))  # Clamp between 0 and 1000\n",
    "    }"
   ]
  },
  {
   "cell_type": "markdown",
   "id": "0854e565-430c-4e43-a6f8-823a6b4123c0",
   "metadata": {},
   "source": [
    "### Scoring Explanation\n",
    "\n",
    "The wallet risk score is calculated based on:\n",
    "\n",
    "- **Borrow Activity**: Higher borrows indicate potential risk.\n",
    "- **Repayment Count**: Indicates responsible behavior.\n",
    "- **Liquidation Events**: Very risky signal.\n",
    "- **Duration of Activity**: Long active wallets considered safer.\n",
    "\n",
    "Final score is scaled to 0–1000 using a normalized rule-based formula."
   ]
  },
  {
   "cell_type": "code",
   "execution_count": 8,
   "id": "5691ee17-bfea-45af-ac74-b66d5322186b",
   "metadata": {},
   "outputs": [
    {
     "name": "stderr",
     "output_type": "stream",
     "text": [
      " 73%|██████████████████████████████████████████████████████████▉                      | 75/103 [09:17<03:17,  7.06s/it]"
     ]
    },
    {
     "name": "stdout",
     "output_type": "stream",
     "text": [
      "❌ Exception occurred for 0xa7f3c74f0255796fd5d3ddcf88db769f7a6bf46a: ('Connection broken: IncompleteRead(2706 bytes read, 7534 more expected)', IncompleteRead(2706 bytes read, 7534 more expected))\n",
      "❌ Skipping 0xa7f3c74f0255796fd5d3ddcf88db769f7a6bf46a due to missing or invalid data\n"
     ]
    },
    {
     "name": "stderr",
     "output_type": "stream",
     "text": [
      "100%|████████████████████████████████████████████████████████████████████████████████| 103/103 [14:53<00:00,  8.67s/it]\n"
     ]
    }
   ],
   "source": [
    "wallet_scores = {}\n",
    "\n",
    "for wallet in tqdm(wallet_list):\n",
    "    tx_data = fetch_wallet_transactions(wallet)\n",
    "    \n",
    "    if tx_data and \"data\" in tx_data and tx_data[\"data\"].get(\"items\"):\n",
    "        items = tx_data[\"data\"][\"items\"]\n",
    "\n",
    "        features = extract_features(items)\n",
    "        wallet_scores[wallet] = features['score']\n",
    "    else:\n",
    "        print(f\"❌ Skipping {wallet} due to missing or invalid data\")\n",
    "        wallet_scores[wallet] = 0  # or None\n",
    "\n",
    "    time.sleep(0.3)  # respect rate limits\n"
   ]
  },
  {
   "cell_type": "code",
   "execution_count": 9,
   "id": "be503e7a-2a3c-4661-9bf9-02dab90948bb",
   "metadata": {},
   "outputs": [],
   "source": [
    "# Save results to CSV\n",
    "pd.DataFrame(wallet_scores.items(), columns=[\"wallet_id\", \"score\"]).to_csv(\"wallet_risk_scores.csv\", index=False)"
   ]
  },
  {
   "cell_type": "code",
   "execution_count": null,
   "id": "4c460a90-35ac-418a-8106-229b415c11df",
   "metadata": {},
   "outputs": [],
   "source": []
  },
  {
   "cell_type": "code",
   "execution_count": null,
   "id": "369e692b-c54e-455b-8994-73093cd21a0d",
   "metadata": {},
   "outputs": [],
   "source": []
  }
 ],
 "metadata": {
  "kernelspec": {
   "display_name": "Python 3 (ipykernel)",
   "language": "python",
   "name": "python3"
  },
  "language_info": {
   "codemirror_mode": {
    "name": "ipython",
    "version": 3
   },
   "file_extension": ".py",
   "mimetype": "text/x-python",
   "name": "python",
   "nbconvert_exporter": "python",
   "pygments_lexer": "ipython3",
   "version": "3.12.3"
  }
 },
 "nbformat": 4,
 "nbformat_minor": 5
}
